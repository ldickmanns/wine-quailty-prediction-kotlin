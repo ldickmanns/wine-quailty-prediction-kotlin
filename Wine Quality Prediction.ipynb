{
 "cells": [
  {
   "cell_type": "code",
   "execution_count": null,
   "id": "066fcc25",
   "metadata": {},
   "outputs": [],
   "source": [
    "%use kotlin-dl\n",
    "%use krangl"
   ]
  },
  {
   "cell_type": "code",
   "execution_count": null,
   "id": "9dc50d22",
   "metadata": {},
   "outputs": [],
   "source": [
    "import org.jetbrains.kotlinx.dl.api.core.history.EpochTrainingEvent\n",
    "import org.jetbrains.kotlinx.dl.api.core.history.TrainingHistory"
   ]
  },
  {
   "cell_type": "code",
   "execution_count": null,
   "id": "7724c04b",
   "metadata": {},
   "outputs": [],
   "source": [
    "fun normalize(df: DataFrame): DataFrame {\n",
    "    val normalizedCols = mutableListOf<DataCol>()\n",
    "    for (col in df.cols) {\n",
    "        val min = col.min()!!\n",
    "        val max = col.max()!!\n",
    "        val normalized = (col - min) / (max - min)\n",
    "        normalizedCols.add(normalized)\n",
    "    }\n",
    "    val normalizedDF = dataFrameOf(*normalizedCols.toTypedArray())\n",
    "    normalizedDF.setNames(*df.names.toTypedArray())\n",
    "    return normalizedDF\n",
    "}"
   ]
  },
  {
   "cell_type": "code",
   "execution_count": null,
   "id": "1ca1b2bc",
   "metadata": {},
   "outputs": [],
   "source": [
    "fun getXy(\n",
    "    df: DataFrame, \n",
    "    label: String = \"quality\"\n",
    "): Pair<Array<FloatArray>, FloatArray> {\n",
    "    val features = df.remove(label)\n",
    "    val nFeatures = features.ncol\n",
    "    val normalizedFeatures = normalize(features)\n",
    "    val columnsArray = normalizedFeatures.toFloatMatrix()\n",
    "    \n",
    "    val X = Array(features.nrow) { FloatArray(nFeatures) }\n",
    "\n",
    "    for (col in 0 until nFeatures) {\n",
    "        for (row in 0 until df.nrow) {\n",
    "            X[row][col] = columnsArray[col][row]\n",
    "        }\n",
    "    }\n",
    "    \n",
    "    val labels = df.get(label).toDoubles().filterNotNull().map { it.toFloat() }\n",
    "    \n",
    "    val y = labels.toFloatArray()\n",
    "    return Pair(X, y)\n",
    "}"
   ]
  },
  {
   "cell_type": "code",
   "execution_count": null,
   "id": "4a8afc82-d8c5-406b-a4a6-cb617ec2f392",
   "metadata": {},
   "outputs": [],
   "source": [
    "val dfTrain = DataFrame.readCSV(\"data/winequality-white-train.csv\")\n",
    "val dfValid = DataFrame.readCSV(\"data/winequality-white-val.csv\")"
   ]
  },
  {
   "cell_type": "code",
   "execution_count": null,
   "id": "482f25c4",
   "metadata": {},
   "outputs": [],
   "source": [
    "val (X, y) = getXy(dfTrain)\n",
    "val (XValid, yValid) = getXy(dfValid)"
   ]
  },
  {
   "cell_type": "code",
   "execution_count": null,
   "id": "6eeaec5b",
   "metadata": {},
   "outputs": [],
   "source": [
    "X[0].forEach { print(\"$it \") }\n",
    "print(y[0])"
   ]
  },
  {
   "cell_type": "code",
   "execution_count": null,
   "id": "d97d722a",
   "metadata": {},
   "outputs": [],
   "source": [
    "val trainDataset = OnHeapDataset.create(X, y)\n",
    "val validDataset = OnHeapDataset.create(XValid, yValid)"
   ]
  },
  {
   "cell_type": "code",
   "execution_count": null,
   "id": "cf91cd77",
   "metadata": {},
   "outputs": [],
   "source": [
    "class PrintingCallback : Callback() {\n",
    "    override fun onEpochEnd(epoch: Int, event: EpochTrainingEvent, logs: TrainingHistory) {\n",
    "        println(\"Epoch: $epoch - loss: ${event.lossValue} - val loss: ${event.valLossValue}\")\n",
    "    }\n",
    "}"
   ]
  },
  {
   "cell_type": "code",
   "execution_count": null,
   "id": "bcd686d5",
   "metadata": {},
   "outputs": [],
   "source": [
    "val model = Sequential.of(\n",
    "    Input(11),\n",
    "    Dense(8),\n",
    "    Dense(8),\n",
    "    Dense(8),\n",
    "    Dense(8),\n",
    "    Dense(8),\n",
    "    Dense(8),\n",
    "    Dense(8),\n",
    "    Dense(1, activation = Activations.Linear)\n",
    ")\n"
   ]
  },
  {
   "cell_type": "code",
   "execution_count": null,
   "id": "441da22f-9e44-4ba0-aa3b-0b1bda558917",
   "metadata": {},
   "outputs": [],
   "source": [
    "model.compile(\n",
    "    optimizer = Adam(0.001f),\n",
    "    loss = Losses.MAE,\n",
    "    metric = Metrics.MAE,\n",
    "    callback = PrintingCallback(),\n",
    ")"
   ]
  },
  {
   "cell_type": "code",
   "execution_count": null,
   "id": "c9f56036-d332-445e-8a95-aa7aaeb89cfb",
   "metadata": {
    "scrolled": true
   },
   "outputs": [],
   "source": [
    "model.summary().print()"
   ]
  },
  {
   "cell_type": "code",
   "execution_count": null,
   "id": "d5c70e86-ac4b-4dc2-a7bf-b2a052fd6a3c",
   "metadata": {
    "scrolled": true
   },
   "outputs": [],
   "source": [
    "model.fit(\n",
    "    trainingDataset = trainDataset,\n",
    "    validationDataset = validDataset,\n",
    "    epochs = 250,\n",
    "    trainBatchSize = 32,\n",
    "    validationBatchSize = 1024\n",
    ")    "
   ]
  },
  {
   "cell_type": "code",
   "execution_count": null,
   "id": "58a0aaa5-8aaa-4a37-a5c7-21863245c81d",
   "metadata": {
    "scrolled": true,
    "tags": []
   },
   "outputs": [],
   "source": [
    "val result = model.evaluate(validDataset)\n",
    "println(result.lossValue)"
   ]
  },
  {
   "cell_type": "code",
   "execution_count": null,
   "id": "ca13a3ed-8b43-4ec3-9011-878d93ecc018",
   "metadata": {},
   "outputs": [],
   "source": []
  }
 ],
 "metadata": {
  "kernelspec": {
   "display_name": "Kotlin",
   "language": "kotlin",
   "name": "kotlin"
  },
  "language_info": {
   "codemirror_mode": "text/x-kotlin",
   "file_extension": ".kt",
   "mimetype": "text/x-kotlin",
   "name": "kotlin",
   "nbconvert_exporter": "",
   "pygments_lexer": "kotlin",
   "version": "1.7.0-dev-3303"
  }
 },
 "nbformat": 4,
 "nbformat_minor": 5
}
